{
  "nbformat": 4,
  "nbformat_minor": 0,
  "metadata": {
    "colab": {
      "provenance": []
    },
    "kernelspec": {
      "name": "python3",
      "display_name": "Python 3"
    },
    "language_info": {
      "name": "python"
    }
  },
  "cells": [
    {
      "cell_type": "code",
      "execution_count": null,
      "metadata": {
        "colab": {
          "base_uri": "https://localhost:8080/"
        },
        "id": "DekMQp17kA-5",
        "outputId": "72d115c3-6119-41ae-8a59-edac8d7dde9c"
      },
      "outputs": [
        {
          "output_type": "stream",
          "name": "stdout",
          "text": [
            "enter base value10\n",
            "enter height value10\n",
            "50.0\n"
          ]
        }
      ],
      "source": [
        "#calculate area of triangle\n",
        "\n",
        "base = int(input(\"enter base value\"))\n",
        "height = int(input(\"enter height value\"))\n",
        "\n",
        "triangle = 1/2*base*height\n",
        "print(triangle)"
      ]
    },
    {
      "cell_type": "code",
      "source": [
        "# based on on their angles acute triangle,obtuse triangle and right triangle\n",
        "\n",
        "num = int(input(\"enter degrees \"))\n",
        "\n",
        "\n",
        "if num<90 and num>=0:\n",
        "  print(f\"acute triangle is {num}\")\n",
        "elif num>90 and num<=180:\n",
        "  print(f\"obtuse triangle is {num}\")\n",
        "elif num==90:\n",
        "  print(f\"right triangle is {num}\")\n",
        "else:\n",
        "  print(f\"triangle value is {num}\")\n"
      ],
      "metadata": {
        "colab": {
          "base_uri": "https://localhost:8080/"
        },
        "id": "kYfFBAcclFyE",
        "outputId": "b66fdd35-2481-4997-da96-4bd7a52034b0"
      },
      "execution_count": null,
      "outputs": [
        {
          "output_type": "stream",
          "name": "stdout",
          "text": [
            "enter degrees 0\n",
            "acute triangle is 0\n"
          ]
        }
      ]
    },
    {
      "cell_type": "code",
      "source": [
        "#write a python code to create a class to represent a basic calculator with add,subtraction,multiplication and division methods\n",
        "\n",
        "a = float(input(\"enter a number \"))\n",
        "b = float(input(\"enter a number \"))\n",
        "\n",
        "class methods:\n",
        "  def __init__(self,a,b):\n",
        "    self.a = a\n",
        "    self.b = b\n",
        "  def add(self):\n",
        "    return a+b\n",
        "  def sub(self):\n",
        "    return a-b\n",
        "  def mul(self):\n",
        "    return a*b\n",
        "  def div(self):\n",
        "    return a/b\n",
        "\n",
        "object = methods(a,b)\n",
        "print(object.add())\n",
        "print(object.sub())\n",
        "print(object.mul())\n",
        "print(object.div())"
      ],
      "metadata": {
        "colab": {
          "base_uri": "https://localhost:8080/"
        },
        "id": "aeS79pzSqTxf",
        "outputId": "45dc32e7-206e-489b-cbef-b989fd3a95c2"
      },
      "execution_count": null,
      "outputs": [
        {
          "output_type": "stream",
          "name": "stdout",
          "text": [
            "enter a number 20\n",
            "enter a number 10\n",
            "30.0\n",
            "10.0\n",
            "200.0\n",
            "2.0\n"
          ]
        }
      ]
    },
    {
      "cell_type": "code",
      "source": [
        "#create a class to represent a movie with attributes like title,director and rating\n",
        "\n",
        "title = input(\"enter title name \")\n",
        "release_date = input(\"enter number or string \")\n",
        "hero = input(\"enter hero name \")\n",
        "heroine = input(\"enter heroine name \")\n",
        "director = input(\"enter director name \")\n",
        "rating = float(input(\"enter rating \"))\n",
        "\n",
        "class movie:\n",
        "  def __init__(self,title,release_date,hero,heroine,director,rating):\n",
        "    self.title = title\n",
        "    self.release_date = release_date\n",
        "    self.hero = hero\n",
        "    self.heroine = heroine\n",
        "    self.director = director\n",
        "    self.rating = rating\n",
        "\n",
        "  def __str__(self):\n",
        "    return f\"{title} movie is released on {release_date} and {hero} and {heroine} are the main plot and the movie was directed by {director} and the movie got huge positive reponse with {rating} rating and it is diwali winner\"\n",
        "\n",
        "  def description(self):\n",
        "    print(\"Description : An uneducated fisherman wants his daughter to be educated and become a doctor but his dreams get shattered when she falls in love with her childhood friend\")\n",
        "\n",
        "object = movie(title,release_date,hero,heroine,director,rating)\n",
        "print(object)\n",
        "object.description()"
      ],
      "metadata": {
        "id": "yUiQC9zBti6C",
        "colab": {
          "base_uri": "https://localhost:8080/"
        },
        "outputId": "d91a7f69-35b6-42d4-fa62-00256f938293"
      },
      "execution_count": null,
      "outputs": [
        {
          "output_type": "stream",
          "name": "stdout",
          "text": [
            "enter title name amaran\n",
            "enter number or string 31st october\n",
            "enter hero name siva karthikeyan\n",
            "enter heroine name sai pallavi\n",
            "enter director name bharathan\n",
            "enter rating 8.4\n",
            "amaran movie is released on 31st october and siva karthikeyan and sai pallavi are the main plot and the movie was directed by bharathan and the movie got huge positive reponse with 8.4 rating and it is diwali winner\n",
            "Description : An uneducated fisherman wants his daughter to be educated and become a doctor but his dreams get shattered when she falls in love with her childhood friend\n"
          ]
        }
      ]
    },
    {
      "cell_type": "code",
      "source": [
        "#implement a class hirarical to represent different types of veichles(cars,bikes) with their own attributes and methods\n",
        "\n",
        "class cars:\n",
        "  def brand(self):\n",
        "    print(\"we have only hyundai creta model with varient cars\")\n",
        "\n",
        "class var1(cars):\n",
        "  def model1(self):\n",
        "    print(\"car model is 2022\")\n",
        "  def color1(self):\n",
        "    print(\"car color is black\")\n",
        "\n",
        "class var2(var1):\n",
        "  def model2(self):\n",
        "    print(\"car model is 2024\")\n",
        "  def color2(self):\n",
        "    print(\"car color is grey\")\n",
        "\n",
        "object = var2()\n",
        "object.brand()\n",
        "object.model1()\n",
        "object.color1()"
      ],
      "metadata": {
        "id": "rGiEkqyBtuNs",
        "colab": {
          "base_uri": "https://localhost:8080/"
        },
        "outputId": "0b9bf4d6-20df-4aa4-881a-593435a08005"
      },
      "execution_count": 11,
      "outputs": [
        {
          "output_type": "stream",
          "name": "stdout",
          "text": [
            "we have only hyundai creta model with varient cars\n",
            "car model is 2022\n",
            "car color is black\n"
          ]
        }
      ]
    },
    {
      "cell_type": "code",
      "source": [
        "class veichles:\n",
        "  def cars(self):\n",
        "    print(\"welcome to bmw showroom we have all varients with latest models\")\n",
        "\n",
        "class var(veichles):\n",
        "  def model1(self):\n",
        "    print(\"car model is 2024\")\n",
        "  def color1(self):\n",
        "    print(\"car color is black\")\n",
        "\n",
        "class var1(var):\n",
        "  def model2(self):\n",
        "    print(\"car model is 2024\")\n",
        "  def color2(self):\n",
        "    print(\"car color is white\")\n",
        "\n",
        "class var2(var1):\n",
        "  def model3(self):\n",
        "    print(\"car model is 2024\")\n",
        "  def color3(self):\n",
        "    print(\"car color is grey\")\n",
        "\n",
        "object = var2()\n",
        "object.cars()\n",
        "object.model2()\n",
        "object.color2()"
      ],
      "metadata": {
        "colab": {
          "base_uri": "https://localhost:8080/"
        },
        "id": "QoEWZ3b_VuaM",
        "outputId": "9878220e-b33f-44c7-9d83-5d1d9a52a675"
      },
      "execution_count": 7,
      "outputs": [
        {
          "output_type": "stream",
          "name": "stdout",
          "text": [
            "welcome to bmw showroom we have all varients with latest models\n",
            "car model is 2024\n",
            "car color is white\n"
          ]
        }
      ]
    },
    {
      "cell_type": "code",
      "source": [],
      "metadata": {
        "id": "2cTTwzVnTx--"
      },
      "execution_count": null,
      "outputs": []
    }
  ]
}