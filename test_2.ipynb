{
  "nbformat": 4,
  "nbformat_minor": 0,
  "metadata": {
    "colab": {
      "provenance": []
    },
    "kernelspec": {
      "name": "python3",
      "display_name": "Python 3"
    },
    "language_info": {
      "name": "python"
    }
  },
  "cells": [
    {
      "cell_type": "markdown",
      "source": [
        "1) write a rules for creating variables\n",
        "\n",
        " - variables start with alpha-numeric values\n",
        " - it is case sensitive\n",
        " - cannot start with specials characters except \"_\"\n",
        " - keywords cant be used\n",
        " - variable cant start with numbers"
      ],
      "metadata": {
        "id": "j_07cxdZGUW6"
      }
    },
    {
      "cell_type": "markdown",
      "source": [
        "2) what is type function and one example\n",
        "\n",
        " - it is used to derive which type of data is stored in a variable"
      ],
      "metadata": {
        "id": "8m4YhtDDG3UC"
      }
    },
    {
      "cell_type": "code",
      "execution_count": 1,
      "metadata": {
        "colab": {
          "base_uri": "https://localhost:8080/"
        },
        "id": "GPCWqJBCEbdR",
        "outputId": "4adc3056-68ce-49ad-9b82-168b7730716f"
      },
      "outputs": [
        {
          "output_type": "stream",
          "name": "stdout",
          "text": [
            "<class 'int'>\n"
          ]
        }
      ],
      "source": [
        "a = 10\n",
        "print(type(a))"
      ]
    },
    {
      "cell_type": "markdown",
      "source": [
        "3) what is difference between \"=\" and \"==\"\n",
        "\n",
        " - = is used to assign the values to variable\n",
        " - == check the values is true or false"
      ],
      "metadata": {
        "id": "-RP4AuU5HLNR"
      }
    },
    {
      "cell_type": "markdown",
      "source": [
        "4) what is difference between mutable and immutable\n",
        "\n",
        " - mutable can change, update and modify the values\n",
        " - immutable cannot change or modify the values"
      ],
      "metadata": {
        "id": "e9eZYwvrHd7E"
      }
    },
    {
      "cell_type": "markdown",
      "source": [
        "5) apply bitwise operation between 143 and 420"
      ],
      "metadata": {
        "id": "0T8Q9pifH_4c"
      }
    },
    {
      "cell_type": "code",
      "source": [
        "a = 143\n",
        "b = 420\n",
        "print(a&b)"
      ],
      "metadata": {
        "colab": {
          "base_uri": "https://localhost:8080/"
        },
        "id": "CwT3yOauH6zs",
        "outputId": "e2e0da86-1dac-4370-b046-d9d9c8ef2088"
      },
      "execution_count": 2,
      "outputs": [
        {
          "output_type": "stream",
          "name": "stdout",
          "text": [
            "132\n"
          ]
        }
      ]
    },
    {
      "cell_type": "markdown",
      "source": [
        "6) 101 right shift with 2"
      ],
      "metadata": {
        "id": "RgcouJqPIRai"
      }
    },
    {
      "cell_type": "code",
      "source": [
        "a = 101>>2\n",
        "print(a)"
      ],
      "metadata": {
        "colab": {
          "base_uri": "https://localhost:8080/"
        },
        "id": "_TmDn8eeIWH4",
        "outputId": "1cd23b5c-d838-4ec1-ac53-7f507ce95972"
      },
      "execution_count": 3,
      "outputs": [
        {
          "output_type": "stream",
          "name": "stdout",
          "text": [
            "25\n"
          ]
        }
      ]
    },
    {
      "cell_type": "markdown",
      "source": [
        "7)write a python code to print 10 natural numbers using for and wile loop\n"
      ],
      "metadata": {
        "id": "94MH5jvwIafj"
      }
    },
    {
      "cell_type": "code",
      "source": [
        "#using for loop\n",
        "a = 1\n",
        "b = 11\n",
        "for i in range (a,b):\n",
        "  print(i)\n",
        "\n",
        "\n"
      ],
      "metadata": {
        "colab": {
          "base_uri": "https://localhost:8080/"
        },
        "id": "DvOkvlM_Ijol",
        "outputId": "7e7689d0-401f-469f-b3d9-7c1da37a0e62"
      },
      "execution_count": 9,
      "outputs": [
        {
          "output_type": "stream",
          "name": "stdout",
          "text": [
            "1\n",
            "2\n",
            "3\n",
            "4\n",
            "5\n",
            "6\n",
            "7\n",
            "8\n",
            "9\n",
            "10\n"
          ]
        }
      ]
    },
    {
      "cell_type": "code",
      "source": [
        "#using while loop\n",
        "\n",
        "user = int(input(\"enter the number\"))\n",
        "i = 1\n",
        "while(i<=user):\n",
        "  print(i)\n",
        "  i+=1"
      ],
      "metadata": {
        "colab": {
          "base_uri": "https://localhost:8080/"
        },
        "id": "4BjiovpVJjhm",
        "outputId": "9afce519-7411-4258-9f10-8826dd58ae89"
      },
      "execution_count": 14,
      "outputs": [
        {
          "output_type": "stream",
          "name": "stdout",
          "text": [
            "enter the number10\n",
            "1\n",
            "2\n",
            "3\n",
            "4\n",
            "5\n",
            "6\n",
            "7\n",
            "8\n",
            "9\n",
            "10\n"
          ]
        }
      ]
    },
    {
      "cell_type": "markdown",
      "source": [
        "8)write a program sum of first 10 natural numbers\n"
      ],
      "metadata": {
        "id": "7nff-SaaKZy1"
      }
    },
    {
      "cell_type": "code",
      "source": [
        "# using for loop\n",
        "\n",
        "a = [1,2,3,4,5,6,7,8,9,10]\n",
        "sum = 0\n",
        "for i in a:\n",
        "  sum = sum+i\n",
        "print(sum)\n"
      ],
      "metadata": {
        "colab": {
          "base_uri": "https://localhost:8080/"
        },
        "id": "eUsRioZ9Kgoq",
        "outputId": "0a20c2cf-b3ac-4b7e-a149-fbdc016f19de"
      },
      "execution_count": 19,
      "outputs": [
        {
          "output_type": "stream",
          "name": "stdout",
          "text": [
            "55\n"
          ]
        }
      ]
    },
    {
      "cell_type": "code",
      "source": [
        "#using while loop\n",
        "\n",
        "i = 1\n",
        "sum = 0\n",
        "while i<=10 :\n",
        "  sum+=i\n",
        "  i+=1\n",
        "print(sum)"
      ],
      "metadata": {
        "colab": {
          "base_uri": "https://localhost:8080/"
        },
        "id": "bQvZr7c_LM5W",
        "outputId": "83c5f9d0-17d9-43c7-f07b-ec29627b28d1"
      },
      "execution_count": 21,
      "outputs": [
        {
          "output_type": "stream",
          "name": "stdout",
          "text": [
            "55\n"
          ]
        }
      ]
    }
  ]
}